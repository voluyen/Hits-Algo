{
 "cells": [
  {
   "cell_type": "code",
   "execution_count": 12,
   "metadata": {},
   "outputs": [],
   "source": [
    "import operator\n",
    "import networkx as nx "
   ]
  },
  {
   "cell_type": "code",
   "execution_count": 13,
   "metadata": {},
   "outputs": [],
   "source": [
    "def read_file(filename: str) -> tuple:\n",
    "    graph = {}\n",
    "    edges = []\n",
    "    with open(filename, 'r') as f:\n",
    "        for line in f:\n",
    "            e = line.strip().split(\" \")\n",
    "            edges.append((e[0], e[1]))\n",
    "            if e[0] not in graph.keys():\n",
    "                graph[e[0]] = [e[1]]\n",
    "            else:\n",
    "                graph[e[0]].append(e[1])\n",
    "            if e[1] not in graph.keys():\n",
    "                graph[e[1]] = []\n",
    "    return graph, edges"
   ]
  },
  {
   "cell_type": "code",
   "execution_count": 14,
   "metadata": {},
   "outputs": [],
   "source": [
    "def hits(graph: dict, k: int = 20) -> tuple:\n",
    "    hub_scores = {page: 1 for page in graph}\n",
    "    authority_scores = {page: 1 for page in graph}\n",
    "\n",
    "    for _ in range(k):\n",
    "        for page, _ in graph.items():\n",
    "            temp_authority = 0\n",
    "            for in_link in graph:\n",
    "                if page in graph[in_link]:\n",
    "                    temp_authority += hub_scores[in_link]\n",
    "            authority_scores[page] = temp_authority\n",
    "\n",
    "        sum_authorities = sum(authority_scores.values())\n",
    "\n",
    "        for page in authority_scores:\n",
    "            authority_scores[page] /= sum_authorities\n",
    "        \n",
    "        for page in graph:\n",
    "            temp_hub = 0\n",
    "            for out_link in graph[page]:\n",
    "                temp_hub += authority_scores[out_link]\n",
    "            hub_scores[page] = temp_hub\n",
    "            \n",
    "        sum_hubs = sum(hub_scores.values())\n",
    "\n",
    "        for page in hub_scores:\n",
    "            hub_scores[page] /= sum_hubs\n",
    "\n",
    "    return hub_scores, authority_scores"
   ]
  },
  {
   "cell_type": "code",
   "execution_count": 15,
   "metadata": {},
   "outputs": [],
   "source": [
    "def get_top_k(d: dict, k: int = 10) -> list:\n",
    "    return sorted(d.items(), key = operator.itemgetter(1), reverse = True)[:k]"
   ]
  },
  {
   "cell_type": "code",
   "execution_count": 16,
   "metadata": {},
   "outputs": [
    {
     "name": "stdout",
     "output_type": "stream",
     "text": [
      "Top 10 Hubs:\n",
      "E: 0.259\n",
      "G: 0.171\n",
      "B: 0.158\n",
      "F: 0.158\n",
      "D: 0.134\n",
      "A: 0.046\n",
      "C: 0.037\n",
      "H: 0.037\n",
      "\n",
      "Top 10 Authorities:\n",
      "C: 0.388\n",
      "D: 0.135\n",
      "B: 0.114\n",
      "F: 0.114\n",
      "A: 0.109\n",
      "E: 0.07\n",
      "H: 0.07\n",
      "G: 0.0\n",
      "\n",
      "Top 10 page rank:\n",
      "A: 0.3\n",
      "C: 0.292\n",
      "D: 0.28\n",
      "E: 0.029\n",
      "H: 0.029\n",
      "B: 0.025\n",
      "F: 0.025\n",
      "G: 0.019\n"
     ]
    }
   ],
   "source": [
    "graph, edges = read_file('data1.txt')\n",
    "hubs, authorities = hits(graph)\n",
    "\n",
    "G = nx.DiGraph()\n",
    "G.add_edges_from(edges)\n",
    "pr= nx.pagerank(G) \n",
    "\n",
    "print(\"Top 10 Hubs:\")\n",
    "top_10_hubs = get_top_k(hubs)\n",
    "for page, hub_score in top_10_hubs:\n",
    "    print(page + ': ' + str(round(hub_score, 3)))\n",
    "print()\n",
    "\n",
    "print(\"Top 10 Authorities:\")\n",
    "top_10_authorities = get_top_k(authorities)\n",
    "for page, authory_score in top_10_authorities:\n",
    "    print(page + ': ' + str(round(authory_score, 3)))\n",
    "print()\n",
    "\n",
    "print(\"Top 10 page rank:\")\n",
    "top_10_pr = get_top_k(pr)\n",
    "for page, pr_score in top_10_pr:\n",
    "    print(page + ': ' + str(round(pr_score, 3)))"
   ]
  }
 ],
 "metadata": {
  "kernelspec": {
   "display_name": "Python 3",
   "language": "python",
   "name": "python3"
  },
  "language_info": {
   "codemirror_mode": {
    "name": "ipython",
    "version": 3
   },
   "file_extension": ".py",
   "mimetype": "text/x-python",
   "name": "python",
   "nbconvert_exporter": "python",
   "pygments_lexer": "ipython3",
   "version": "3.11.4"
  }
 },
 "nbformat": 4,
 "nbformat_minor": 2
}
